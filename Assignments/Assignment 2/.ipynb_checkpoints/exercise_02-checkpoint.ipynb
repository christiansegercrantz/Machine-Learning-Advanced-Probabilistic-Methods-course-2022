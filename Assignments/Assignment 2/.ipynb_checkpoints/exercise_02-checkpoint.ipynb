{
 "cells": [
  {
   "cell_type": "markdown",
   "metadata": {
    "deletable": false,
    "editable": false,
    "nbgrader": {
     "cell_type": "markdown",
     "checksum": "c84039077c225c8c49d8f4d250a53ed7",
     "grade": false,
     "grade_id": "cell-c0f021bd3bfa9ed6",
     "locked": true,
     "schema_version": 3,
     "solution": false,
     "task": false
    }
   },
   "source": [
    "## CS-E4820 Machine Learning: Advanced Probabilistic Methods (spring 2022)\n",
    "\n",
    "Pekka Marttinen, Prayag Tiwari, Vishnu Raj, Tianyu Cui, Yogesh Kumar, Antti Pöllänen, Louis Filstroff, Alex Aushev, Zheyang Shen, Nikitin Alexander , Sebastiaan De Peuter.\n",
    "\n",
    "## Exercise 2, due on Tuesday February 1 at 23:50.\n",
    "\n",
    "### Contents\n",
    "1. Problem 1: Computing conditional probability\n",
    "2. Problem 2: Conditional independence from Bayesian network\n",
    "3. Problem 3: Burden of specification\n",
    "4. Problem 4: Medical diagnosis\n",
    "\n"
   ]
  },
  {
   "cell_type": "markdown",
   "metadata": {
    "deletable": false,
    "editable": false,
    "nbgrader": {
     "cell_type": "markdown",
     "checksum": "1dd7896418f68ccd589e619d91239be1",
     "grade": false,
     "grade_id": "cell-1d2fdeeaba644f5d",
     "locked": true,
     "points": 2,
     "schema_version": 3,
     "solution": false,
     "task": true
    }
   },
   "source": [
    "## Problem 1: Computing conditional probability\n",
    "\n",
    "Consider the Bayesian network in figure below which represents Mr Holmes’ burglary worries: (B)urglar, (A)larm, (W)atson, Mrs (G)ibbon. All variables are binary with states $\\{\\mathsf{tr}, \\mathsf{fa}\\}$. \n",
    "\n",
    "![figure title](holmes_dag.png)\n",
    "\n",
    "The probabilities are\n",
    "\n",
    "\\begin{align*}\n",
    "    p(B = \\mathsf{tr}) &= 0.01 && \\\\\n",
    "    p(A = \\mathsf{tr}|B = \\mathsf{tr}) &= 0.99 & p(A = \\mathsf{tr}|B = \\mathsf{fa}) &= 0.05 \\\\\n",
    "    p(W = \\mathsf{tr}|A = \\mathsf{tr}) &= 0.90 & p(W = \\mathsf{tr}|A = \\mathsf{fa}) &= 0.5 \\\\\n",
    "    p(G = \\mathsf{tr}|A = \\mathsf{tr}) &= 0.7  & p(G = \\mathsf{tr}|A = \\mathsf{fa}) &= 0.2 \\\\\n",
    "\\end{align*}\n",
    "Compute the conditional probabilities\n",
    "\n",
    "__(a)__ \\\\(p(B = \\mathsf{tr}|W = \\mathsf{tr})\\\\)\n",
    "\n",
    "__(b)__ \\\\(p(B = \\mathsf{tr}|W = \\mathsf{tr}, G = \\mathsf{fa})\\\\)\n",
    "\n",
    "Write your solutions in LateX or attach a picture in the answer cell provided below. You can add a picture using the command ```!(imagename_in_the_folder.jpg)```. Latex in here works similarly as you would write it normally! You can use some of the definitions from the exercise description as a reference. The list of valid Latex commands in Jypyter notebook can be found here: http://www.onemathematicalcat.org/MathJaxDocumentation/TeXSyntax.htm\n"
   ]
  },
  {
   "cell_type": "markdown",
   "metadata": {},
   "source": [
    "### a)"
   ]
  },
  {
   "cell_type": "markdown",
   "metadata": {},
   "source": [
    "$p(B = \\mathsf{tr}|W = \\mathsf{tr}) \n",
    "= \\frac{p(B = \\mathsf{tr},W = \\mathsf{tr})}{p(W = \\mathsf{tr})}\n",
    "= \\frac{\\sum_a\\sum_g p(B=\\mathsf{tr}, W = \\mathsf{tr}, A, G)}{\\sum_a\\sum_g\\sum_bp(W = \\mathsf{tr}B, A, G)}$\n",
    "\n",
    "The numerator can be rewritten using the Markov property of the graph as:\n",
    "\n",
    "$\\sum_a\\sum_g p(B=\\mathsf{tr})p(A\\mid B= \\mathsf{tr}) p(G\\mid A) p(W= \\mathsf{tr}\\mid A) \\\\\n",
    "= p(B=\\mathsf{tr}) \\sum_a \\left( p(A\\mid B= \\mathsf{tr}) p(W= \\mathsf{tr}\\mid A)\\sum_g p(G\\mid A)\\right) $\n",
    "\n",
    "And the denominator can similarly be written as:\n",
    "\n",
    "$\\sum_a \\sum_g \\sum_b p(B)p(A\\mid B) p(G\\mid A) p(W= \\mathsf{tr}\\mid A) \\\\\n",
    "= \\sum_a  p(W= \\mathsf{tr}\\mid A) \\left(\\sum_b\\left( p(B)p(A\\mid B)   \\sum_g p(G\\mid A)\\right)\\right)$\n",
    "\n",
    "By definition $\\sum_g p(G\\mid A) = 1$ so we will drop the term from both parts.\n",
    "\n",
    "And we can thus again rewrite the numerator and open the sums to:\n",
    "\n",
    "$p(B=\\mathsf{tr}) \\left( p(A=\\mathsf{tr}\\mid B= \\mathsf{tr}) p(W= \\mathsf{tr}\\mid A= \\mathsf{tr}) + p(A=\\mathsf{fa}\\mid B= \\mathsf{tr}) p(W= \\mathsf{tr}\\mid A= \\mathsf{fa})\\right) \\\\\n",
    "= p(B=\\mathsf{tr}) \\left( p(A=\\mathsf{tr}\\mid B= \\mathsf{tr}) p(W= \\mathsf{tr}\\mid A= \\mathsf{tr}) + (1-p(A=\\mathsf{tr}\\mid B= \\mathsf{tr})) p(W= \\mathsf{tr}\\mid A= \\mathsf{fa})\\right)$\n",
    "\n",
    "We know know all terms in the numerator and can do the same for the denominator:\n",
    "\n",
    "$ \\sum_a  p(W= \\mathsf{tr}\\mid A) \\left(\\sum_b\\left( p(B)p(A\\mid B) \\right)\\right) \\\\\n",
    "= \\sum_a  p(W= \\mathsf{tr}\\mid A) \\left( p(B=\\mathsf{tr})p(A\\mid B=\\mathsf{tr}) + p(B=\\mathsf{fa})p(A\\mid B=\\mathsf{fa}) \\right) \\\\\n",
    "=  p(W= \\mathsf{tr}\\mid A=\\mathsf{tr}) \\left( p(B=\\mathsf{tr})p(A=\\mathsf{tr}\\mid B=\\mathsf{tr}) + (1- p(B=\\mathsf{tr}))p(A=\\mathsf{tr}\\mid B=\\mathsf{fa}) \\right)+ p(W= \\mathsf{tr}\\mid A=\\mathsf{fa})\\left( p(B=\\mathsf{tr})(1-p(A=\\mathsf{tr}\\mid B=\\mathsf{tr})) + (1- p(B=\\mathsf{tr}))(1-p(A=\\mathsf{tr}\\mid B=\\mathsf{fa})) \\right)$\n",
    "\n",
    "We now know all the terms in both parts\n",
    "\n",
    "$ \\frac{p(B=\\mathsf{tr}) \\left( p(A=\\mathsf{tr}\\mid B= \\mathsf{tr}) p(W= \\mathsf{tr}\\mid A= \\mathsf{tr}) + (1-p(A=\\mathsf{tr}\\mid B= \\mathsf{tr})) p(W= \\mathsf{tr}\\mid A= \\mathsf{fa})\\right)}{p(W= \\mathsf{tr}\\mid A=\\mathsf{tr}) \\left( p(B=\\mathsf{tr})p(A=\\mathsf{tr}\\mid B=\\mathsf{tr}) + (1- p(B=\\mathsf{tr}))p(A=\\mathsf{tr}\\mid B=\\mathsf{fa}) \\right)+ p(W= \\mathsf{tr}\\mid A=\\mathsf{fa})\\left( p(B=\\mathsf{tr})(1-p(A=\\mathsf{tr}\\mid B=\\mathsf{tr})) + (1- p(B=\\mathsf{tr}))(1-p(A=\\mathsf{tr}\\mid B=\\mathsf{fa})) \\right)}$\n",
    "\n",
    "and can do the calculation"
   ]
  },
  {
   "cell_type": "code",
   "execution_count": 5,
   "metadata": {},
   "outputs": [
    {
     "data": {
      "text/markdown": [
       "The probability is approximately 1.71%"
      ],
      "text/plain": [
       "<IPython.core.display.Markdown object>"
      ]
     },
     "execution_count": 5,
     "metadata": {},
     "output_type": "execute_result"
    }
   ],
   "source": [
    "from IPython.display import Markdown as md\n",
    "\n",
    "num=0.01*(0.99*0.9+(1-0.99)*0.5)\n",
    "den=0.9*(0.01*0.99+(1-0.01)*0.05) + 0.5*(0.01*(1-0.99)+(1-0.01)*(1-0.05))\n",
    "res = num/den\n",
    "md(\"The probability is approximately {:.2f}%\".format(100*res))"
   ]
  },
  {
   "cell_type": "markdown",
   "metadata": {},
   "source": [
    "### b)"
   ]
  },
  {
   "cell_type": "markdown",
   "metadata": {},
   "source": [
    "$p(B = \\mathsf{tr}|W = \\mathsf{tr}, G = \\mathsf{fa}) = \\frac{p(B = \\mathsf{tr},W = \\mathsf{tr}, G = \\mathsf{fa})}{p(W = \\mathsf{tr}, G = \\mathsf{fa})}$\n",
    "\n",
    "We will proceed as in the a) part and calculate the numerator and denominator separately using the marginal distributions and markov properties\n",
    "\n",
    "Numerator:\n",
    "$p(B = \\mathsf{tr},W = \\mathsf{tr}, G = \\mathsf{fa}) = \\sum_a p(B=\\mathsf{tr})p(A\\mid B= \\mathsf{tr}) p(G = \\mathsf{fa}\\mid A) p(W= \\mathsf{tr}\\mid A) \\\\\n",
    "= p(B=\\mathsf{tr})\\sum_a p(A\\mid B= \\mathsf{tr}) p(G = \\mathsf{fa}\\mid A) p(W= \\mathsf{tr}\\mid A)$\n",
    "\n",
    "Denominator:\n",
    "$p(W = \\mathsf{tr}, G = \\mathsf{fa}) = \\sum_a\\sum_b p(B)p(A\\mid B) p(G = \\mathsf{fa}\\mid A) p(W= \\mathsf{tr}\\mid A)$\n",
    "\n",
    "Which gives us the final expression (without opening the sums):\n",
    "$\\frac{p(B=\\mathsf{tr})\\sum_a p(A\\mid B= \\mathsf{tr}) p(G = \\mathsf{fa}\\mid A) p(W= \\mathsf{tr}\\mid A)}{\\sum_a\\sum_b p(B)p(A\\mid B) p(G = \\mathsf{fa}\\mid A) p(W= \\mathsf{tr}\\mid A)}$"
   ]
  },
  {
   "cell_type": "code",
   "execution_count": 4,
   "metadata": {},
   "outputs": [
    {
     "data": {
      "text/markdown": [
       "The probability is approximately 0.69%"
      ],
      "text/plain": [
       "<IPython.core.display.Markdown object>"
      ]
     },
     "execution_count": 4,
     "metadata": {},
     "output_type": "execute_result"
    }
   ],
   "source": [
    "num = 0.01* (0.99*(1-0.7)*0.9 + (1-0.99)*(1-0.2)*0.5)\n",
    "den = 0.01*0.99*(1-0.7)*0.9 + 0.01*(1-0.99)*(1-0.2)*0.5 + (1-0.01)*0.05*(1-0.7)*0.9 + (1-0.01)*(1-0.05)*(1-0.2)*0.5\n",
    "res = num/den\n",
    "md(\"The probability is approximately {:.2f}%\".format(100*res))"
   ]
  },
  {
   "cell_type": "markdown",
   "metadata": {
    "deletable": false,
    "editable": false,
    "nbgrader": {
     "cell_type": "markdown",
     "checksum": "9d6a798f32225dfed6ec85e429e99c84",
     "grade": false,
     "grade_id": "cell-4389fe27dd8356de",
     "locked": true,
     "points": 2,
     "schema_version": 3,
     "solution": false,
     "task": true
    }
   },
   "source": [
    "## Problem 2: Conditional independence from Bayesian network\n",
    "\n",
    "Based on the Bayesian network in [figure](markov.png) below, which of the following conditional independence statements follow? \n",
    "For each statement, give a ''true/false'' answer; for the false statements, also mention a path between the two nodes that is not blocked. (see [Barber: Bayesian Reasoning and Machine Learning](http://web4.cs.ucl.ac.uk/staff/D.Barber/pmwiki/pmwiki.php?n=Brml.Online),ch. 3.3.4)\n",
    "\n",
    "![markov](markov.png)\n",
    "\\\n",
    "\\begin{align}\n",
    "(a)\\ \\ A \\perp\\!\\!\\!\\perp  B \\mid C && (c)\\ \\ C \\perp\\!\\!\\!\\perp E \\mid B,D &&(e)\\ \\ B \\perp\\!\\!\\!\\perp F \\mid A,C\\\\\n",
    "(b)\\ \\ A \\perp\\!\\!\\!\\perp B \\mid \\emptyset && (d)\\ \\ C \\perp\\!\\!\\!\\perp D \\mid A,B &&(f)\\ \\ A \\perp\\!\\!\\!\\perp E \\mid D,F\n",
    "\\end{align}\n",
    "\n",
    "Furthermore, find a Bayesian network that is *Markov equivalent* to the network in the above [figure](markov.png). (see [Barber: Bayesian Reasoning and Machine Learning](http://web4.cs.ucl.ac.uk/staff/D.Barber/pmwiki/pmwiki.php?n=Brml.Online),ch. 3.3.6)\n",
    "\n",
    "Write your solution in LateX or attach a picture of the solution in the cell below.\n"
   ]
  },
  {
   "cell_type": "markdown",
   "metadata": {},
   "source": [
    "(a) False, A->C<-B is not blocked\n",
    "\n",
    "(b) True\n",
    "\n",
    "(c) False, C<-A->F->E is not blocked\n",
    "\n",
    "(d) False, C->D is not blocked\n",
    "\n",
    "(e) True\n",
    "\n",
    "(f) False, A->D<-C<-B->E is not blocked"
   ]
  },
  {
   "cell_type": "markdown",
   "metadata": {
    "deletable": false,
    "editable": false,
    "nbgrader": {
     "cell_type": "markdown",
     "checksum": "37b396f8243680b8d28bd2c93cfceaa8",
     "grade": false,
     "grade_id": "cell-0a1fe4ecb6deae3a",
     "locked": true,
     "points": 2,
     "schema_version": 3,
     "solution": false,
     "task": true
    }
   },
   "source": [
    "## Problem 3: Burden of specification\n",
    "\n",
    "Consider a distribution of five binary variables $x_i$.\n",
    "\n",
    "__(a)__ What is the number of parameters needed to define the distribution $p(x_1,x_2,x_3,x_4,x_5)$ if no assumptions are made, i.e. $p$ is an arbitrary distribution.\n",
    "\n",
    "__(b)__ How about if the Bayesian network in [figure](chain.png) below is assumed, i.e. $p$ factorizes as implied by the graph. \n",
    "\n",
    "__(c)__ And how about if, additionally to (b), we assume that the conditional distributions are shared, i.e. $p(x_{i+1}\\mid x_i)=p(x_{i}\\mid x_{i-1})$, $i=2,3,4$?\n",
    "\n",
    "![figure](chain.png)\n",
    "\n",
    "Write your solution in LateX or attach a picture of the solution in the cell below.\n"
   ]
  },
  {
   "cell_type": "markdown",
   "metadata": {},
   "source": [
    "(a) The distribution, without loss of generality, be rewritten as\n",
    "$ p(x_1,x_2,x_3,x_4,x_5) = p(x_1\\mid x_2,x_3,x_4,x_5)p(x_2\\mid x_3,x_4,x_5)p(x_3\\mid x_4,x_5)p(x_4\\mid x_5)p(x_5)$\n",
    "The number of parameters is found by $2^{i}-1$ where $i$ is the number of variables. We get $2^5-1$=31\n",
    "\n",
    "(b) Using the Markov properties of the Baeysian network, we can rewrite the joint probability as:\n",
    "$ p(x_1,x_2,x_3,x_4,x_5)= p(x_1)p(x_2 \\mid x_1)p(x_3 \\mid x_2)p(x_4 \\mid x_3)p(x_5 \\mid x_4)$ from which we can count the needed parameters as 1+2+2+2+2 = 4*2+1 = 9\n",
    "\n",
    "(c) The additonal information gives us the additonal equations\n",
    "\n",
    "$p(x_5 \\mid x_4) = p(x_4 \\mid x_3) $\n",
    "\n",
    "$p(x_4 \\mid x_3) = p(x_3 \\mid x_2) $\n",
    "\n",
    "$p(x_3 \\mid x_2) = p(x_2 \\mid x_1) $\n",
    "\n",
    "i.e.\n",
    "\n",
    "$p(x_5 \\mid x_4) = p(x_4 \\mid x_3)  = p(x_3 \\mid x_2) = p(x_2 \\mid x_1)$\n",
    "\n",
    "Which gives us the result\n",
    "\n",
    "$ p(x_1,x_2,x_3,x_4,x_5)= p(x_1)p(x_2 \\mid x_1)^4$\n",
    "and we can see that we only need to specify 1+2=3 parameters."
   ]
  },
  {
   "cell_type": "markdown",
   "metadata": {
    "deletable": false,
    "editable": false,
    "nbgrader": {
     "cell_type": "markdown",
     "checksum": "69c7126f15c64792d79b3a2bdf29baad",
     "grade": false,
     "grade_id": "cell-5e0c1579745bce4e",
     "locked": true,
     "points": 2,
     "schema_version": 3,
     "solution": false,
     "task": true
    }
   },
   "source": [
    "## Problem 4: Medical diagnosis\n",
    "\n",
    "Let's have the following notation:\n",
    "\n",
    "| Notation    | Explanation                                      |\n",
    "|-------------|--------------------------------------------------|\n",
    "| $A = 1$<br> | A person has brain cancer                        |\n",
    "| $B = 1$     | A person has a high blood calcium level          |\n",
    "| $C = 1$     | A person has a brain tumor                       |\n",
    "| $D = 1$     | A person has seizures that cause unconsciousness |\n",
    "| $E = 1$     | A person has severe headaches                    |\n",
    "\n",
    "\n",
    "An expert has told us the following information about the relationships between variables:\n",
    "\n",
    ">Probability of severe headaches $P(E = 1)$ depends only on the fact whether a person has a brain tumor ($C$) or not. On the other hand, if one knows the blood calcium level ($B$) and whether the person has a tumor or not ($C$), one can specify the probability of unconsciousness seizures $P(D = 1)$. In this case, the probability of $D$ doesn't depend on the presence of the headaches ($E$) or (directly) on the fact whether the person has brain cancer or not  ($A$). The probability of a brain tumor ($C$) depends directly only on the fact, whether the person has brain cancer or not ($A$).\n",
    "\n",
    "Construct a DAG which represents (exactly) the causal statements specified by the expert.\n",
    "Furthemore, write down the conditional independencies corresponding the description of the expert and verify that this conforms with those implied by the DAG.\n",
    "Finally, write down the joint distribution $P(A, B, C, D, E)$ factorized according to the DAG.\n",
    "\n",
    "Write your solution in LateX or attach a picture of the solution in the cell below.\n"
   ]
  },
  {
   "cell_type": "markdown",
   "metadata": {},
   "source": [
    "The DAG constructed from the text can be seen here ![figure](dag_4.png)"
   ]
  },
  {
   "cell_type": "markdown",
   "metadata": {},
   "source": [
    "$ E \\perp\\!\\!\\!\\perp A,B,D \\mid C$\n",
    "\n",
    "$ D \\perp\\!\\!\\!\\perp A,E \\mid B, C$"
   ]
  },
  {
   "cell_type": "markdown",
   "metadata": {},
   "source": [
    "Since C is a non-collider in the conditioning set, we can see that the first indeprendence hols in the DAG as well. The same goes for the second independence, since both C and B are in the conditioning set and are non-colliders in every path.\n",
    "\n",
    "We can write the joint distribution, by the markov property, as\n",
    "$P(A,B,C,D,E) = \n",
    "P(A)\\cdot P(C \\mid A)\\cdot P(E \\mid C)\\cdot P(D \\mid C,B)\\cdot P(B)$"
   ]
  },
  {
   "cell_type": "code",
   "execution_count": null,
   "metadata": {},
   "outputs": [],
   "source": []
  }
 ],
 "metadata": {
  "kernelspec": {
   "display_name": "Python 3",
   "language": "python",
   "name": "python3"
  },
  "language_info": {
   "codemirror_mode": {
    "name": "ipython",
    "version": 3
   },
   "file_extension": ".py",
   "mimetype": "text/x-python",
   "name": "python",
   "nbconvert_exporter": "python",
   "pygments_lexer": "ipython3",
   "version": "3.8.6"
  },
  "varInspector": {
   "cols": {
    "lenName": 16,
    "lenType": 16,
    "lenVar": 40
   },
   "kernels_config": {
    "python": {
     "delete_cmd_postfix": "",
     "delete_cmd_prefix": "del ",
     "library": "var_list.py",
     "varRefreshCmd": "print(var_dic_list())"
    },
    "r": {
     "delete_cmd_postfix": ") ",
     "delete_cmd_prefix": "rm(",
     "library": "var_list.r",
     "varRefreshCmd": "cat(var_dic_list()) "
    }
   },
   "types_to_exclude": [
    "module",
    "function",
    "builtin_function_or_method",
    "instance",
    "_Feature"
   ],
   "window_display": false
  }
 },
 "nbformat": 4,
 "nbformat_minor": 4
}
